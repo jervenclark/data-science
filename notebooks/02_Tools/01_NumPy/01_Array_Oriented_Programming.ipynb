{
 "cells": [
  {
   "cell_type": "markdown",
   "metadata": {},
   "source": [
    "# Array Oriented Programming\n",
    "\n",
    "Using NumPy arrays enable you to express many kinds of data processing tasks as concise array expressions. This removes the need for to create loops to process arrays. This process of replacing loops with array expressions is called *vectorization*. In general, a vectorized array operation will often be one or two orders of magnitude faster than pure python equivalents, with the biggest impact in any kind of numerical computation.\n",
    "\n",
    "As an example, let's take a look at the function `sqrt(x^2 + y^2)` across a regular grid of values. "
   ]
  },
  {
   "cell_type": "code",
   "execution_count": 67,
   "metadata": {},
   "outputs": [],
   "source": [
    "import numpy as np"
   ]
  },
  {
   "cell_type": "code",
   "execution_count": 68,
   "metadata": {},
   "outputs": [],
   "source": [
    "points = np.arange(-5, 5, 0.01)"
   ]
  },
  {
   "cell_type": "markdown",
   "metadata": {},
   "source": [
    "Here, we get 1000 equally spaced points and using the `meshgrid()` function which takes two 1D arrays and produces two 2D matrices corresponding to a pair of (x, y) in two arrays:"
   ]
  },
  {
   "cell_type": "code",
   "execution_count": 69,
   "metadata": {},
   "outputs": [],
   "source": [
    "xs, ys = np.meshgrid(points, points)"
   ]
  },
  {
   "cell_type": "code",
   "execution_count": 70,
   "metadata": {},
   "outputs": [
    {
     "data": {
      "text/plain": [
       "array([[-5.  , -4.99, -4.98, ...,  4.97,  4.98,  4.99],\n",
       "       [-5.  , -4.99, -4.98, ...,  4.97,  4.98,  4.99],\n",
       "       [-5.  , -4.99, -4.98, ...,  4.97,  4.98,  4.99],\n",
       "       ...,\n",
       "       [-5.  , -4.99, -4.98, ...,  4.97,  4.98,  4.99],\n",
       "       [-5.  , -4.99, -4.98, ...,  4.97,  4.98,  4.99],\n",
       "       [-5.  , -4.99, -4.98, ...,  4.97,  4.98,  4.99]])"
      ]
     },
     "execution_count": 70,
     "metadata": {},
     "output_type": "execute_result"
    }
   ],
   "source": [
    "xs"
   ]
  },
  {
   "cell_type": "markdown",
   "metadata": {},
   "source": [
    "Now, evaluating the function is a matter of writing the same expression you would write with two points:"
   ]
  },
  {
   "cell_type": "code",
   "execution_count": 71,
   "metadata": {},
   "outputs": [
    {
     "name": "stdout",
     "output_type": "stream",
     "text": [
      "CPU times: user 0 ns, sys: 222 ms, total: 222 ms\n",
      "Wall time: 233 ms\n"
     ]
    }
   ],
   "source": [
    "time z = np.sqrt(xs ** 2 + ys ** 2)"
   ]
  },
  {
   "cell_type": "code",
   "execution_count": 72,
   "metadata": {},
   "outputs": [
    {
     "data": {
      "text/plain": [
       "array([[7.07106781, 7.06400028, 7.05693985, ..., 7.04988652, 7.05693985,\n",
       "        7.06400028],\n",
       "       [7.06400028, 7.05692568, 7.04985815, ..., 7.04279774, 7.04985815,\n",
       "        7.05692568],\n",
       "       [7.05693985, 7.04985815, 7.04278354, ..., 7.03571603, 7.04278354,\n",
       "        7.04985815],\n",
       "       ...,\n",
       "       [7.04988652, 7.04279774, 7.03571603, ..., 7.0286414 , 7.03571603,\n",
       "        7.04279774],\n",
       "       [7.05693985, 7.04985815, 7.04278354, ..., 7.03571603, 7.04278354,\n",
       "        7.04985815],\n",
       "       [7.06400028, 7.05692568, 7.04985815, ..., 7.04279774, 7.04985815,\n",
       "        7.05692568]])"
      ]
     },
     "execution_count": 72,
     "metadata": {},
     "output_type": "execute_result"
    }
   ],
   "source": [
    "z"
   ]
  },
  {
   "cell_type": "markdown",
   "metadata": {},
   "source": [
    "## Conditional Logic as Array Operations"
   ]
  },
  {
   "cell_type": "markdown",
   "metadata": {},
   "source": [
    "The NumPy.where function is vectorized version of the ternary expression `x if condition else y`. Suppose we have a boolean array and two arrays of values:"
   ]
  },
  {
   "cell_type": "code",
   "execution_count": 73,
   "metadata": {},
   "outputs": [],
   "source": [
    "xarr = np.arange(15) + 0.1\n",
    "yarr = np.arange(15) + 0.2"
   ]
  },
  {
   "cell_type": "code",
   "execution_count": 74,
   "metadata": {},
   "outputs": [
    {
     "data": {
      "text/plain": [
       "array([ True, False,  True,  True,  True,  True, False, False, False,\n",
       "       False,  True, False, False, False, False])"
      ]
     },
     "execution_count": 74,
     "metadata": {},
     "output_type": "execute_result"
    }
   ],
   "source": [
    "#mask = np.array([True, False, True, True, False, False, False, True, False, True, False, False, True, True, True, False, True, ])\n",
    "mask = np.random.choice([True, False], size=15)\n",
    "mask"
   ]
  },
  {
   "cell_type": "markdown",
   "metadata": {},
   "source": [
    "Suppose we wanted to take a value from xarr whenever the corresponding valule in cond is True and otherwise take from yarr. A list comprehension doing this might look like:"
   ]
  },
  {
   "cell_type": "code",
   "execution_count": 75,
   "metadata": {},
   "outputs": [
    {
     "name": "stdout",
     "output_type": "stream",
     "text": [
      "11.3 µs ± 326 ns per loop (mean ± std. dev. of 7 runs, 100000 loops each)\n"
     ]
    }
   ],
   "source": [
    "timeit [(x if m else y) for m, x, y in zip(mask, xarr, yarr)]"
   ]
  },
  {
   "cell_type": "markdown",
   "metadata": {},
   "source": [
    "Although this works, it poses multiple problems. First, it will not be very fast for large arrays because all the work is being done in interpreted python code. Second, it will not work in multidimensional arrays without additional tweaking with nested loops. With`where()` we can do this in a more concise manner:"
   ]
  },
  {
   "cell_type": "code",
   "execution_count": 76,
   "metadata": {},
   "outputs": [
    {
     "name": "stdout",
     "output_type": "stream",
     "text": [
      "2.68 µs ± 28.1 ns per loop (mean ± std. dev. of 7 runs, 100000 loops each)\n"
     ]
    }
   ],
   "source": [
    "timeit np.where(mask, xarr, yarr)"
   ]
  },
  {
   "cell_type": "markdown",
   "metadata": {},
   "source": [
    "Our list comprehension is at least 4 times slower than the vectorized version. The second and third arguments to `where()` don't even need to bbe arrays - one or both of them could even be scalars. A useful application for this will be masking data. Suppose we have a dataset where we wanted to replace all negative values with 0. This is very easy using `where()`."
   ]
  },
  {
   "cell_type": "code",
   "execution_count": 79,
   "metadata": {},
   "outputs": [],
   "source": [
    "a = np.random.randn(10, 10)"
   ]
  },
  {
   "cell_type": "code",
   "execution_count": 81,
   "metadata": {},
   "outputs": [
    {
     "data": {
      "text/plain": [
       "array([[-2.20302665, -0.61390337, -2.54058693, -0.72424268,  1.00206805,\n",
       "        -0.72982098, -0.45723666,  1.67182593,  1.01264522,  0.05765577],\n",
       "       [ 0.39698014, -0.14967381, -2.10907265, -0.03142134,  0.10020257,\n",
       "        -0.53826631, -1.33109636,  0.12893053,  2.06430783, -1.50428213],\n",
       "       [-0.6605047 ,  0.93245544, -1.43171449,  1.68121844,  0.7620569 ,\n",
       "        -0.8316734 ,  0.40425373, -0.77703922, -0.25853696, -0.42799875],\n",
       "       [-0.86045771,  0.5884398 , -1.4829827 ,  0.38073089,  0.32761923,\n",
       "        -0.68931152, -0.15839306, -1.70489105,  0.23393342, -0.06584003],\n",
       "       [-1.34040182,  0.89438112,  0.65813786, -0.10964945, -0.7760108 ,\n",
       "        -0.54210343,  0.9078766 , -0.28270344,  0.10127039,  1.95625879],\n",
       "       [ 0.78618308,  0.97840891,  0.22726628, -0.81492472, -1.20414097,\n",
       "        -0.56786495, -0.77759112,  0.66347548,  1.81336315, -0.45029782],\n",
       "       [-0.43237719,  0.5403987 ,  0.87390357, -0.68445767,  0.10901413,\n",
       "         0.37443348,  0.75627998,  1.93014442, -1.13894035,  0.87575939],\n",
       "       [-1.55283163, -0.17824866,  0.02579787,  1.06461092,  0.1385091 ,\n",
       "         0.32035037,  0.31461037, -1.72038482, -0.79498685, -1.66008016],\n",
       "       [-1.34962479, -0.33662773, -0.04516397, -0.85909334, -0.5181226 ,\n",
       "        -0.89937852, -0.78648925,  0.52936419,  1.30014842, -1.05581707],\n",
       "       [-2.47987435, -1.30907857, -0.34321586,  1.36638606,  0.1682683 ,\n",
       "        -2.97712128,  0.22034601, -0.03076383, -0.02118383, -0.06575748]])"
      ]
     },
     "execution_count": 81,
     "metadata": {},
     "output_type": "execute_result"
    }
   ],
   "source": [
    "a"
   ]
  },
  {
   "cell_type": "code",
   "execution_count": 83,
   "metadata": {},
   "outputs": [
    {
     "data": {
      "text/plain": [
       "array([[0.        , 0.        , 0.        , 0.        , 1.00206805,\n",
       "        0.        , 0.        , 1.67182593, 1.01264522, 0.05765577],\n",
       "       [0.39698014, 0.        , 0.        , 0.        , 0.10020257,\n",
       "        0.        , 0.        , 0.12893053, 2.06430783, 0.        ],\n",
       "       [0.        , 0.93245544, 0.        , 1.68121844, 0.7620569 ,\n",
       "        0.        , 0.40425373, 0.        , 0.        , 0.        ],\n",
       "       [0.        , 0.5884398 , 0.        , 0.38073089, 0.32761923,\n",
       "        0.        , 0.        , 0.        , 0.23393342, 0.        ],\n",
       "       [0.        , 0.89438112, 0.65813786, 0.        , 0.        ,\n",
       "        0.        , 0.9078766 , 0.        , 0.10127039, 1.95625879],\n",
       "       [0.78618308, 0.97840891, 0.22726628, 0.        , 0.        ,\n",
       "        0.        , 0.        , 0.66347548, 1.81336315, 0.        ],\n",
       "       [0.        , 0.5403987 , 0.87390357, 0.        , 0.10901413,\n",
       "        0.37443348, 0.75627998, 1.93014442, 0.        , 0.87575939],\n",
       "       [0.        , 0.        , 0.02579787, 1.06461092, 0.1385091 ,\n",
       "        0.32035037, 0.31461037, 0.        , 0.        , 0.        ],\n",
       "       [0.        , 0.        , 0.        , 0.        , 0.        ,\n",
       "        0.        , 0.        , 0.52936419, 1.30014842, 0.        ],\n",
       "       [0.        , 0.        , 0.        , 1.36638606, 0.1682683 ,\n",
       "        0.        , 0.22034601, 0.        , 0.        , 0.        ]])"
      ]
     },
     "execution_count": 83,
     "metadata": {},
     "output_type": "execute_result"
    }
   ],
   "source": [
    "np.where(a < 0, 0, a)"
   ]
  },
  {
   "cell_type": "markdown",
   "metadata": {},
   "source": [
    "## Statistical Methods\n",
    "\n",
    "A set of mathematical functions that compute statistics about an entire array or about the data along an axis are accessible as methods of the array class. You can use aggregations (reductions) like `sum`, `mean`, and `std` either by calling the array instance or using top-level NumPy functions."
   ]
  },
  {
   "cell_type": "code",
   "execution_count": 88,
   "metadata": {},
   "outputs": [
    {
     "data": {
      "text/plain": [
       "array([[-2.20302665, -0.61390337, -2.54058693, -0.72424268,  1.00206805,\n",
       "        -0.72982098, -0.45723666,  1.67182593,  1.01264522,  0.05765577],\n",
       "       [ 0.39698014, -0.14967381, -2.10907265, -0.03142134,  0.10020257,\n",
       "        -0.53826631, -1.33109636,  0.12893053,  2.06430783, -1.50428213],\n",
       "       [-0.6605047 ,  0.93245544, -1.43171449,  1.68121844,  0.7620569 ,\n",
       "        -0.8316734 ,  0.40425373, -0.77703922, -0.25853696, -0.42799875],\n",
       "       [-0.86045771,  0.5884398 , -1.4829827 ,  0.38073089,  0.32761923,\n",
       "        -0.68931152, -0.15839306, -1.70489105,  0.23393342, -0.06584003],\n",
       "       [-1.34040182,  0.89438112,  0.65813786, -0.10964945, -0.7760108 ,\n",
       "        -0.54210343,  0.9078766 , -0.28270344,  0.10127039,  1.95625879],\n",
       "       [ 0.78618308,  0.97840891,  0.22726628, -0.81492472, -1.20414097,\n",
       "        -0.56786495, -0.77759112,  0.66347548,  1.81336315, -0.45029782],\n",
       "       [-0.43237719,  0.5403987 ,  0.87390357, -0.68445767,  0.10901413,\n",
       "         0.37443348,  0.75627998,  1.93014442, -1.13894035,  0.87575939],\n",
       "       [-1.55283163, -0.17824866,  0.02579787,  1.06461092,  0.1385091 ,\n",
       "         0.32035037,  0.31461037, -1.72038482, -0.79498685, -1.66008016],\n",
       "       [-1.34962479, -0.33662773, -0.04516397, -0.85909334, -0.5181226 ,\n",
       "        -0.89937852, -0.78648925,  0.52936419,  1.30014842, -1.05581707],\n",
       "       [-2.47987435, -1.30907857, -0.34321586,  1.36638606,  0.1682683 ,\n",
       "        -2.97712128,  0.22034601, -0.03076383, -0.02118383, -0.06575748]])"
      ]
     },
     "execution_count": 88,
     "metadata": {},
     "output_type": "execute_result"
    }
   ],
   "source": [
    "a"
   ]
  },
  {
   "cell_type": "code",
   "execution_count": 85,
   "metadata": {},
   "outputs": [
    {
     "data": {
      "text/plain": [
       "-0.1874701096167288"
      ]
     },
     "execution_count": 85,
     "metadata": {},
     "output_type": "execute_result"
    }
   ],
   "source": [
    "a.mean()"
   ]
  },
  {
   "cell_type": "code",
   "execution_count": 86,
   "metadata": {},
   "outputs": [
    {
     "data": {
      "text/plain": [
       "-0.1874701096167288"
      ]
     },
     "execution_count": 86,
     "metadata": {},
     "output_type": "execute_result"
    }
   ],
   "source": [
    "np.mean(a)"
   ]
  },
  {
   "cell_type": "code",
   "execution_count": 87,
   "metadata": {},
   "outputs": [
    {
     "data": {
      "text/plain": [
       "-18.74701096167288"
      ]
     },
     "execution_count": 87,
     "metadata": {},
     "output_type": "execute_result"
    }
   ],
   "source": [
    "a.sum()"
   ]
  }
 ],
 "metadata": {
  "kernelspec": {
   "display_name": "Python 3",
   "language": "python",
   "name": "python3"
  },
  "language_info": {
   "codemirror_mode": {
    "name": "ipython",
    "version": 3
   },
   "file_extension": ".py",
   "mimetype": "text/x-python",
   "name": "python",
   "nbconvert_exporter": "python",
   "pygments_lexer": "ipython3",
   "version": "3.7.6"
  }
 },
 "nbformat": 4,
 "nbformat_minor": 4
}
