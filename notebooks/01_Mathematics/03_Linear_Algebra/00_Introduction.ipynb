{
 "cells": [
  {
   "cell_type": "markdown",
   "metadata": {},
   "source": [
    "# Introduction to Linear Algebra\n",
    "\n",
    "Linear Algebra is another branch of mathematics that has a wide application throughout science and engineering. Yet, because linear algebra is continuous rather than discrete, many computer scientists have very little experience with it. A good understanding of linear algebra is essential for understanding and working with many machine learning algorithms, especially deep learning.\n",
    "\n",
    "## Scalars, Vectors, Matrices and Tensors\n",
    "\n",
    "The study of Linear Algebra is focused on several mathematical objects:\n",
    "\n",
    "- Scalars are single numbers, in contrast to most of the other objects studied in linear algebra, which are usually arrays of multiple numbers. Scalars are typically written in italics with lower-case variable names. When we introduce them, we usually specify what kind of number they are. For example, we might say \"Let $x \\in \\mathbb{R}$ be the slope of the line\" when defining real-valued scalars or \"Let $n \\in \\mathbb{N}$ be the number of units\" while defining a natural number scalar.\n",
    "- Vectors: are array of numbers. These numbers are arranged in order. We can identify each individual number by its index in that ordering. Typically we give vectors lowercase names in bold typeface while the elements are italics with subscripts, such as \"The first element of $\\pmb{x}$ is $x_1$, the second element of $\\pmb{x}$ is $x_2$\" and so on. We also need to say which kind of numbers are stored in a vector. If each element is in $\\mathbb{R}$, and the vector has $n$ elements, then the vector lies in the set forming by taking the Cartesian product of $\\mathbb{R} n$ times denoted as $\\mathbb{R}^n$. When we explicitly identify the elements of a vector, we write them as a column enclosed in square brackets: $$ \\pmb{x} = \\begin{bmatrix}x_1 \\\\ x_2 \\\\ \\vdots \\\\ x_n \\end{bmatrix}$$ We can think of vectors as identifying points in space, with each element giving the coordinate along a different axis. Sometimes we need to index a set of elements of a vector. In this case, we define a set containing the indices and write the set as a subscript. For example, to access $x_1, x_3$ and $x_6$, we define a set $S = \\{ 1, 3,6\\}$ and write $x_S$ while we use the $-$ sign to index the complement of the set, $x_{-S}$ which means the vector containing all the elements except for elements $x_1, x_3, x_6$\n",
    "- Matrices: are two-dimensional array of numbers, so each element is identified by two indices instead of just one. We usually give matrices uppercase variable names with bold typecases such as $A$. If a real-valued matrix $A$ has a height of $m$ and a width of $n$, then we say that $A \\in \\mathbb{R}^{m \\times n}$. We usually identify the elements of a matrix using its name in italic but not bold font and the indices are listed with separating commas. For example $A_{1,1}$ is the upper left entry of $\\pmb{A}$ and $A_{m,n}$ is the bottom right entry. We can identify all tthe numbers with vertical coordinate $i$ by writing a \":\" for the horizontal coordinate. For example, $A_{i,:}$ denotes the horizontal cross section of $A$ with vertical coordinate $i$. This is known as the $i$-th row. Likewise, $A_{:,i}$ is the $i$-th column of $A$. When we need to explicitly identify the elements of a matrix, we write them as an array enclosed insquare brackets: $$ A = \\begin{bmatrix} A_{1,1} A_{1,2} \\\\ A_{2,1} A_{2,2} \\end{bmatrix} $$. Sometimes, we may need to index matrix--valued expressions that are not just a single letter. In this case, we use subscriptss aafter the expression but do not convert anything to lowercase. For example $f(A)_{i,j}$ gives the element $(i,j)$ of the matrix by applying the function $f$ to $A$\n",
    "- Tensors: are arrays with more than two axes. In the general case, an array of numbers arranged on a regular grid with a variable number of axes is known as a tensor. We denote a tensor named $\\bf{A}$ and identify its elements using coordinates $(i,j,k)$ by writing ${\\bf{A}}_{i,j,k}$."
   ]
  }
 ],
 "metadata": {
  "kernelspec": {
   "display_name": "Python 3",
   "language": "python",
   "name": "python3"
  },
  "language_info": {
   "codemirror_mode": {
    "name": "ipython",
    "version": 3
   },
   "file_extension": ".py",
   "mimetype": "text/x-python",
   "name": "python",
   "nbconvert_exporter": "python",
   "pygments_lexer": "ipython3",
   "version": "3.8.2"
  }
 },
 "nbformat": 4,
 "nbformat_minor": 4
}
