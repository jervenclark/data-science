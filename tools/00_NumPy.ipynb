{
 "cells": [
  {
   "cell_type": "markdown",
   "metadata": {},
   "source": [
    "# NumPy"
   ]
  },
  {
   "cell_type": "markdown",
   "metadata": {},
   "source": [
    "## Arrays and Lists\n",
    "\n",
    "An array is a collection of elements of the same data type. In other popular languages, arrays are very common but in python, when people talk about arrays, they often mean lists. Difference between lists and arrays is that for lists, the type of elements is not constrained."
   ]
  },
  {
   "cell_type": "code",
   "execution_count": null,
   "metadata": {},
   "outputs": [],
   "source": [
    "list = [True, \"Hello, World\", 3.14]"
   ]
  },
  {
   "cell_type": "markdown",
   "metadata": {},
   "source": [
    "For arrays, however, if we try to create an array of mixed elements it will throw an error"
   ]
  },
  {
   "cell_type": "code",
   "execution_count": null,
   "metadata": {},
   "outputs": [],
   "source": [
    "import array as arr\n",
    "array = arr.array('d', [True, \"Hello, World\", 3.14])"
   ]
  },
  {
   "cell_type": "code",
   "execution_count": null,
   "metadata": {},
   "outputs": [],
   "source": [
    "uniform_array = arr.array('I', [1, 2, 3, 4])\n",
    "uniform_array"
   ]
  },
  {
   "cell_type": "markdown",
   "metadata": {},
   "source": [
    "That being said, we can treat lists like arrays. We can also create lists inside a list. This is called a nested list"
   ]
  },
  {
   "cell_type": "code",
   "execution_count": null,
   "metadata": {},
   "outputs": [],
   "source": [
    "nested_list = [[1, 2, 3], ['a', 'b', 'c']]\n",
    "nested_list"
   ]
  },
  {
   "cell_type": "markdown",
   "metadata": {},
   "source": [
    "### Indexing\n",
    "\n",
    "There are various ways to access the elements of a list. We can use the index operator `[]` for that. Like other 0-index languages, indices are integers that start from 0. Furthermore, python also supports negative indexing. The end of the array is considered -1, then the second to the last element is -2 and so on until we reach the very first element. \n",
    "\n",
    "So, a list with 5 elements have indices: -5, -4, -3, -2, -1, 0, 1, 2, 3, 4. Trying to access elements other than those results in an `IndexError`. Also, we cannot use floats or other types even though for us humans we generally consider 3.0 to be equal to 3. If we do so, it will result in a `TypeError`.\n",
    "\n",
    "<img src=\"../assets/images/array-indices.svg\" width=\"400\" />"
   ]
  },
  {
   "cell_type": "code",
   "execution_count": null,
   "metadata": {},
   "outputs": [],
   "source": [
    "a = ['h', 'e', 'l', 'l', 'o']\n",
    "a[2]"
   ]
  },
  {
   "cell_type": "code",
   "execution_count": null,
   "metadata": {},
   "outputs": [],
   "source": [
    "a[-2]"
   ]
  },
  {
   "cell_type": "code",
   "execution_count": null,
   "metadata": {},
   "outputs": [],
   "source": [
    "a[5]"
   ]
  },
  {
   "cell_type": "code",
   "execution_count": null,
   "metadata": {},
   "outputs": [],
   "source": [
    "a = [1, 2, 3, 4, 5]\n",
    "b = [6, 7, 8, 9, 10]\n",
    "\n",
    "a + b"
   ]
  },
  {
   "cell_type": "code",
   "execution_count": null,
   "metadata": {},
   "outputs": [],
   "source": [
    "[ first + second for first, second in zip(a, b)]"
   ]
  },
  {
   "cell_type": "markdown",
   "metadata": {},
   "source": [
    "### Slicing\n",
    "\n",
    "In addition to accessing elements using indices, we can also use a range to slice lists like so: `list[start:end:stride]`. Note that the end is exclusive, meaning the slice only goes up to the element before the end index."
   ]
  },
  {
   "cell_type": "code",
   "execution_count": null,
   "metadata": {},
   "outputs": [],
   "source": [
    "# this picks 0, 1\n",
    "a[0:2]"
   ]
  },
  {
   "cell_type": "markdown",
   "metadata": {},
   "source": [
    "Stride means how many steps are taken to get to the next element. By default, the stride is 1 so we can get the same result if we do"
   ]
  },
  {
   "cell_type": "code",
   "execution_count": null,
   "metadata": {},
   "outputs": [],
   "source": [
    "a[0:2:1]"
   ]
  },
  {
   "cell_type": "code",
   "execution_count": null,
   "metadata": {},
   "outputs": [],
   "source": [
    "# skips every other element\n",
    "a[0:4:2]"
   ]
  },
  {
   "cell_type": "markdown",
   "metadata": {},
   "source": [
    "Negative indices can also be used for slicing."
   ]
  },
  {
   "cell_type": "code",
   "execution_count": null,
   "metadata": {},
   "outputs": [],
   "source": [
    "a[-5:-3]"
   ]
  },
  {
   "cell_type": "markdown",
   "metadata": {},
   "source": [
    "If the start parameter is omitted, it means slice the array from the very first element."
   ]
  },
  {
   "cell_type": "code",
   "execution_count": null,
   "metadata": {},
   "outputs": [],
   "source": [
    "a[:2]"
   ]
  },
  {
   "cell_type": "markdown",
   "metadata": {},
   "source": [
    "Same with omitting the end parameter, slice the array until the end."
   ]
  },
  {
   "cell_type": "code",
   "execution_count": null,
   "metadata": {},
   "outputs": [],
   "source": [
    "a[3:]"
   ]
  },
  {
   "cell_type": "code",
   "execution_count": null,
   "metadata": {},
   "outputs": [],
   "source": [
    "a[:]"
   ]
  },
  {
   "cell_type": "code",
   "execution_count": null,
   "metadata": {},
   "outputs": [],
   "source": [
    "a[::2]"
   ]
  },
  {
   "cell_type": "code",
   "execution_count": null,
   "metadata": {},
   "outputs": [],
   "source": [
    "a[::]"
   ]
  },
  {
   "cell_type": "markdown",
   "metadata": {},
   "source": [
    "### Operations\n",
    "\n",
    "Lists are mutable, meaning their elements can be changed unlike strings or tuple. We can use the assignment operator `=` to change an item or range of items."
   ]
  },
  {
   "cell_type": "code",
   "execution_count": null,
   "metadata": {},
   "outputs": [],
   "source": [
    "a = ['h', 'e', 'l', 'l', 'o']\n",
    "\n",
    "a[0] = 'w'\n",
    "a[-1] = 'd'\n",
    "a"
   ]
  },
  {
   "cell_type": "code",
   "execution_count": null,
   "metadata": {},
   "outputs": [],
   "source": [
    "a[1:3] = ['o', 'r']\n",
    "a"
   ]
  },
  {
   "cell_type": "markdown",
   "metadata": {},
   "source": [
    "We can add new element to list by using the `append()` method or using `extend()` if you need to add several items."
   ]
  },
  {
   "cell_type": "code",
   "execution_count": null,
   "metadata": {},
   "outputs": [],
   "source": [
    "a.append('w')\n",
    "a"
   ]
  },
  {
   "cell_type": "code",
   "execution_count": null,
   "metadata": {},
   "outputs": [],
   "source": [
    "a.extend(['i', 'd', 'e'])\n",
    "a"
   ]
  },
  {
   "cell_type": "markdown",
   "metadata": {},
   "source": [
    "We can also use the '+' operator to combine 2 lists. This is called concatenation."
   ]
  },
  {
   "cell_type": "code",
   "execution_count": null,
   "metadata": {},
   "outputs": [],
   "source": [
    "a = [1, 2, 3]\n",
    "b = [4, 5, 6]\n",
    "\n",
    "a + b"
   ]
  },
  {
   "cell_type": "markdown",
   "metadata": {},
   "source": [
    "Furthermore, there is an `insert()` method we can use to squeeze in an item into a desired location or multiple items into an empty slice of a list."
   ]
  },
  {
   "cell_type": "code",
   "execution_count": null,
   "metadata": {},
   "outputs": [],
   "source": [
    "odd = [1, 3, 5, 9]\n",
    "odd.insert(3, 7)\n",
    "odd"
   ]
  },
  {
   "cell_type": "code",
   "execution_count": null,
   "metadata": {},
   "outputs": [],
   "source": [
    "even = [2, 4, 6, 16, 18, 20]\n",
    "even[3:3] = [8, 10, 12, 14]\n",
    "even"
   ]
  },
  {
   "cell_type": "markdown",
   "metadata": {},
   "source": [
    "There are multiple ways to delete an item from a list. We can use `del` to remove an element or the entire list."
   ]
  },
  {
   "cell_type": "code",
   "execution_count": null,
   "metadata": {},
   "outputs": [],
   "source": [
    "a = [1, 2, 3, 4, 5, 6, 7]\n",
    "del a[0]\n",
    "a"
   ]
  },
  {
   "cell_type": "code",
   "execution_count": null,
   "metadata": {},
   "outputs": [],
   "source": [
    "del a\n",
    "a"
   ]
  },
  {
   "cell_type": "markdown",
   "metadata": {},
   "source": [
    "There is also a `remove()` method we can use to remove the given item or `pop(index)` to remove an item at a given index. If the index parameter is omitted, the last item is removed and returned. This is important in implementing lists as stacks (first in, last out). Lastly, there is `clear()` method to empty the entire list."
   ]
  },
  {
   "cell_type": "code",
   "execution_count": null,
   "metadata": {},
   "outputs": [],
   "source": [
    "a = [1, 2, 3, 4, 5]\n",
    "a.remove(2)\n",
    "a"
   ]
  },
  {
   "cell_type": "code",
   "execution_count": null,
   "metadata": {},
   "outputs": [],
   "source": [
    "a.pop(2)\n",
    "a"
   ]
  },
  {
   "cell_type": "code",
   "execution_count": null,
   "metadata": {},
   "outputs": [],
   "source": [
    "a.pop()"
   ]
  },
  {
   "cell_type": "code",
   "execution_count": null,
   "metadata": {},
   "outputs": [],
   "source": [
    "a"
   ]
  },
  {
   "cell_type": "markdown",
   "metadata": {},
   "source": [
    "Finally, we can delete items in a list by assigning an empty list to a slice of elements."
   ]
  },
  {
   "cell_type": "code",
   "execution_count": null,
   "metadata": {},
   "outputs": [],
   "source": [
    "a = [1, 2, 3, 4, 5]\n",
    "a[1:3] = []\n",
    "a"
   ]
  },
  {
   "cell_type": "markdown",
   "metadata": {},
   "source": [
    "## Numpy Arrays"
   ]
  },
  {
   "cell_type": "code",
   "execution_count": null,
   "metadata": {},
   "outputs": [],
   "source": [
    "c = np.array([1, 2, 3, 4, 5])"
   ]
  },
  {
   "cell_type": "markdown",
   "metadata": {},
   "source": [
    "Numpy arrays have useful properties that are not found in regular python arrays. One of which is `ndim` it gives us the dimension of the array, in this particular case: 1."
   ]
  },
  {
   "cell_type": "code",
   "execution_count": null,
   "metadata": {},
   "outputs": [],
   "source": [
    "c.ndim"
   ]
  },
  {
   "cell_type": "markdown",
   "metadata": {},
   "source": [
    "There is also `array.shape` which gives us the shape of the array. Operations are usually dependent on the shape of the array."
   ]
  },
  {
   "cell_type": "code",
   "execution_count": null,
   "metadata": {},
   "outputs": [],
   "source": [
    "c.shape"
   ]
  },
  {
   "cell_type": "markdown",
   "metadata": {},
   "source": [
    "We also have an `array.dtype` property which gives us the data type of the elements. "
   ]
  },
  {
   "cell_type": "code",
   "execution_count": null,
   "metadata": {},
   "outputs": [],
   "source": [
    "c.dtype"
   ]
  },
  {
   "cell_type": "markdown",
   "metadata": {},
   "source": [
    "NumPy arrays differ from regular arrays in that operations are done element-wise. So, adding a NumPy array to another array gives us the sum per element instead of concatenating the two arrays together."
   ]
  },
  {
   "cell_type": "code",
   "execution_count": null,
   "metadata": {},
   "outputs": [],
   "source": [
    "d = np.array([6, 7, 8, 9, 10])\n",
    "c + d"
   ]
  },
  {
   "cell_type": "markdown",
   "metadata": {},
   "source": [
    "### Slicing NumPy Arrays"
   ]
  },
  {
   "cell_type": "markdown",
   "metadata": {},
   "source": [
    "<img src=\"../assets/images/array-slicing.svg\" width=\"400\" />"
   ]
  },
  {
   "cell_type": "code",
   "execution_count": null,
   "metadata": {
    "tags": [
     "tools",
     "numpy"
    ]
   },
   "outputs": [],
   "source": [
    "import numpy as np"
   ]
  },
  {
   "cell_type": "code",
   "execution_count": null,
   "metadata": {},
   "outputs": [],
   "source": [
    "a = np.arange(1, 26).reshape(5, 5)\n",
    "a"
   ]
  },
  {
   "cell_type": "code",
   "execution_count": null,
   "metadata": {},
   "outputs": [],
   "source": [
    "# Blue\n",
    "a[1::2, 0:3:2]"
   ]
  },
  {
   "cell_type": "code",
   "execution_count": null,
   "metadata": {},
   "outputs": [],
   "source": [
    "# Red selection\n",
    "a[:, 1::2]"
   ]
  },
  {
   "cell_type": "code",
   "execution_count": null,
   "metadata": {},
   "outputs": [],
   "source": [
    "# Green selection\n",
    "a[:, -1:]"
   ]
  },
  {
   "cell_type": "code",
   "execution_count": null,
   "metadata": {},
   "outputs": [],
   "source": [
    "# Purple selection\n",
    "a[2]"
   ]
  },
  {
   "cell_type": "markdown",
   "metadata": {},
   "source": [
    "### Blurring using Slicing\n",
    "\n",
    "<img src=\"../data/tools/numpy/burger.png\" width=\"500\" />\n",
    "Photo by Md. Golam Murshed on Unsplash"
   ]
  },
  {
   "cell_type": "code",
   "execution_count": null,
   "metadata": {},
   "outputs": [],
   "source": [
    "import matplotlib.pyplot as plt\n",
    "img = plt.imread('../data/tools/numpy/burger.png')"
   ]
  },
  {
   "cell_type": "code",
   "execution_count": null,
   "metadata": {},
   "outputs": [],
   "source": [
    "def blur(img):\n",
    "  center = img[1:-1, 1:-1]\n",
    "  top = img[:-2,  1:-1]\n",
    "  bottom = img[2:,   1:-1]\n",
    "  left = img[1:-1, 0:-2]\n",
    "  right = img[1:-1, 2:]\n",
    "  return (top + left + right + bottom + center) / 5"
   ]
  },
  {
   "cell_type": "code",
   "execution_count": null,
   "metadata": {},
   "outputs": [],
   "source": [
    "blurred = blur(img)\n",
    "plt.imshow(blurred, cmap=plt.cm.hot)"
   ]
  },
  {
   "cell_type": "code",
   "execution_count": null,
   "metadata": {},
   "outputs": [],
   "source": [
    "for i in range(50):\n",
    "    blurred = blur(blurred)\n",
    "plt.imshow(blurred, cmap=plt.cm.hot)"
   ]
  },
  {
   "cell_type": "markdown",
   "metadata": {},
   "source": [
    "### Fancy Indexing\n",
    "\n",
    "Unlike slicing, fancy indexing creates copies instead of views."
   ]
  },
  {
   "cell_type": "code",
   "execution_count": null,
   "metadata": {},
   "outputs": [],
   "source": [
    "a = np.array([5, 8, 5, 8, 9, 4, 4, 9, 8, 7])\n",
    "a"
   ]
  },
  {
   "cell_type": "markdown",
   "metadata": {},
   "source": [
    "We can also index by passing an array of positions. This works especially for cases where we know the exact location of the elements. Here, we choose the 3rd, 4th and 8th elements"
   ]
  },
  {
   "cell_type": "code",
   "execution_count": null,
   "metadata": {},
   "outputs": [],
   "source": [
    "positions = [2,3,7]\n",
    "a[positions]"
   ]
  },
  {
   "cell_type": "markdown",
   "metadata": {},
   "source": [
    "There is also a different kind of indexing, using boolean arrays. This is sometimes called masking"
   ]
  },
  {
   "cell_type": "code",
   "execution_count": null,
   "metadata": {},
   "outputs": [],
   "source": [
    "a = np.array([-10,   5,  -6,  -7,  -2,   4,  -4,  -7,   1, -10])\n",
    "a"
   ]
  },
  {
   "cell_type": "code",
   "execution_count": null,
   "metadata": {},
   "outputs": [],
   "source": [
    "mask = np.array([0, 1, 0, 1, 1, 0, 1, 0, 1, 1], dtype=bool)\n",
    "a[mask]"
   ]
  },
  {
   "cell_type": "markdown",
   "metadata": {},
   "source": [
    "But the chances of creating a mask by hand is very close to zero. A practical application would be to create a filter"
   ]
  },
  {
   "cell_type": "code",
   "execution_count": null,
   "metadata": {},
   "outputs": [],
   "source": [
    "mask_negative = a < 0\n",
    "a[mask_negative]"
   ]
  },
  {
   "cell_type": "markdown",
   "metadata": {},
   "source": [
    "Or replace all positive values with their squares"
   ]
  },
  {
   "cell_type": "code",
   "execution_count": null,
   "metadata": {},
   "outputs": [],
   "source": [
    "a[a > 0] = a[a > 0] ** 2\n",
    "a"
   ]
  },
  {
   "cell_type": "markdown",
   "metadata": {},
   "source": [
    "<img src=\"../assets/images/array-fancy-indexing.svg\" width=\"300\" />"
   ]
  },
  {
   "cell_type": "code",
   "execution_count": null,
   "metadata": {},
   "outputs": [],
   "source": [
    "a = np.arange(1, 37).reshape(6, 6)"
   ]
  },
  {
   "cell_type": "markdown",
   "metadata": {},
   "source": [
    "We can use indexing by positions"
   ]
  },
  {
   "cell_type": "code",
   "execution_count": null,
   "metadata": {},
   "outputs": [],
   "source": [
    "row_pos = [0, 1, 2, 3, 4]\n",
    "column_pos = [1, 2, 3, 4, 5]\n",
    "a[row_pos, column_pos]"
   ]
  },
  {
   "cell_type": "markdown",
   "metadata": {},
   "source": [
    "We can also use numpy.diagonal"
   ]
  },
  {
   "cell_type": "code",
   "execution_count": null,
   "metadata": {},
   "outputs": [],
   "source": [
    "np.diagonal(a, 1)"
   ]
  },
  {
   "cell_type": "code",
   "execution_count": null,
   "metadata": {},
   "outputs": [],
   "source": [
    "a[[0, 2, -1], 2]"
   ]
  },
  {
   "cell_type": "code",
   "execution_count": null,
   "metadata": {},
   "outputs": [],
   "source": [
    "column_mask = np.array([1, 0, 1, 0, 0, 1], dtype=bool)\n",
    "a[3:, column_mask]"
   ]
  },
  {
   "cell_type": "code",
   "execution_count": null,
   "metadata": {},
   "outputs": [],
   "source": [
    "a[a % 3 == 0]"
   ]
  },
  {
   "cell_type": "markdown",
   "metadata": {},
   "source": [
    "### Broadcasting\n",
    "\n",
    "Broadcasting has two rules:\n",
    "\n",
    "1. Prepend ones to smaller array's shape"
   ]
  },
  {
   "cell_type": "code",
   "execution_count": null,
   "metadata": {},
   "outputs": [],
   "source": [
    "# a.shape == (5,)\n",
    "a = np.ones((5,))\n",
    "# a.shape = (1, 5) equivalent to a[np.newaxis, :]\n",
    "a.reshape(1, 5)"
   ]
  },
  {
   "cell_type": "markdown",
   "metadata": {},
   "source": [
    "2. Dimensions of size 1 are repeated without copying"
   ]
  },
  {
   "cell_type": "code",
   "execution_count": null,
   "metadata": {},
   "outputs": [],
   "source": [
    "# b.shape == (3, 5)\n",
    "b = np.ones((3, 5))\n",
    "\n",
    "# c.shape == (3, 5)\n",
    "c = a + b\n",
    "c"
   ]
  },
  {
   "cell_type": "markdown",
   "metadata": {},
   "source": [
    "which is logically equivalent to"
   ]
  },
  {
   "cell_type": "code",
   "execution_count": null,
   "metadata": {},
   "outputs": [],
   "source": [
    "a = np.ones((5,))\n",
    "tmp_a = a.reshape(1, 5)\n",
    "tmp_a_repeat = tmp_a.repeat(3, axis=0)\n",
    "c = b + tmp_a_repeat\n",
    "c"
   ]
  },
  {
   "cell_type": "markdown",
   "metadata": {},
   "source": [
    "Numpy arrays of different dimensionality can be combined in the same expression. Arrays with smaller dimension are broadcasted to match the larger arrays, without copying data.\n",
    "\n",
    "- $[4 \\times 3] + [4 \\times 3]$\n",
    "\n",
    "$\\begin{bmatrix} 0 & 0 & 0 \\\\ 10 & 10 & 10 \\\\ 20 & 20 & 20 \\\\ 30 & 30 & 30 \\end{bmatrix} + \\begin{bmatrix} 0 & 1 & 2 \\\\ 0 & 1 & 2 \\\\ 0 & 1 & 2 \\\\ 0 & 1 & 2 \\end{bmatrix} = \\begin{bmatrix} 0 & 0 & 0 \\\\ 10 & 10 & 10 \\\\ 20 & 20 & 20 \\\\ 30 & 30 & 30 \\end{bmatrix} + \\begin{bmatrix} 0 & 1 & 2 \\\\ 0 & 1 & 2 \\\\ 0 & 1 & 2 \\\\ 0 & 1 & 2 \\end{bmatrix} = \\begin{bmatrix} 0 & 1 & 2 \\\\ 10 & 11 & 12 \\\\ 20 & 21 & 22 \\\\ 30 & 31 & 32 \\end{bmatrix}$ \n",
    "\n",
    "- $[4 \\times 3] + [1 \\times 3]$\n",
    "\n",
    "$\\begin{bmatrix} 0 & 0 & 0 \\\\ 10 & 10 & 10 \\\\ 20 & 20 & 20 \\\\ 30 & 30 & 30 \\end{bmatrix} + \\begin{bmatrix} 0 & 1 & 2 \\end{bmatrix} = \\begin{bmatrix} 0 & 0 & 0 \\\\ 10 & 10 & 10 \\\\ 20 & 20 & 20 \\\\ 30 & 30 & 30 \\end{bmatrix} + \\begin{bmatrix} 0 & 1 & 2 \\\\ 0 & 1 & 2 \\\\ 0 & 1 & 2 \\\\ 0 & 1 & 2 \\end{bmatrix} = \\begin{bmatrix} 0 & 1 & 2 \\\\ 10 & 11 & 12 \\\\ 20 & 21 & 22 \\\\ 30 & 31 & 32 \\end{bmatrix}$ \n",
    "\n",
    "- $[4 \\times 1] + [1 \\times 3]$\n",
    "\n",
    "$\\begin{bmatrix} 0 \\\\ 10 \\\\ 20 \\\\ 30 \\end{bmatrix} + \\begin{bmatrix} 0 & 1 & 2 \\end{bmatrix} = \\begin{bmatrix} 0 & 0 & 0 \\\\ 10 & 10 & 10 \\\\ 20 & 20 & 20 \\\\ 30 & 30 & 30 \\end{bmatrix} + \\begin{bmatrix} 0 & 1 & 2 \\\\ 0 & 1 & 2 \\\\ 0 & 1 & 2 \\\\ 0 & 1 & 2 \\end{bmatrix} = \\begin{bmatrix} 0 & 1 & 2 \\\\ 10 & 11 & 12 \\\\ 20 & 21 & 22 \\\\ 30 & 31 & 32 \\end{bmatrix}$ "
   ]
  },
  {
   "cell_type": "markdown",
   "metadata": {},
   "source": [
    "### Array Calculations\n",
    "\n",
    "1. Operations between multiple array objects are first checked for proper shape match called broadcasting rules.\n",
    "2. Mathematical operators $(+, -, \\times, /, e, \\log, ...)$ apply element by element, on the values\n",
    "3. Reduction operations (mean, std, skew, kurt, sum, prod, ...), all your \n",
    "statistical moment are applied to the whole array, unless an axis is specified\n",
    "4. Missing values propagate unless explicitly ignored (nanmean, etc)"
   ]
  },
  {
   "cell_type": "markdown",
   "metadata": {},
   "source": [
    "#### Sum"
   ]
  },
  {
   "cell_type": "code",
   "execution_count": null,
   "metadata": {},
   "outputs": [],
   "source": [
    "a = np.arange(6).reshape(2, 3)\n",
    "a"
   ]
  },
  {
   "cell_type": "code",
   "execution_count": null,
   "metadata": {},
   "outputs": [],
   "source": [
    "a.sum()"
   ]
  },
  {
   "cell_type": "code",
   "execution_count": null,
   "metadata": {},
   "outputs": [],
   "source": [
    "a.sum(axis=0)"
   ]
  },
  {
   "cell_type": "code",
   "execution_count": null,
   "metadata": {},
   "outputs": [],
   "source": [
    "a.sum(axis=1)"
   ]
  },
  {
   "cell_type": "markdown",
   "metadata": {},
   "source": [
    "#### Argmin/Argmax\n",
    "\n",
    "Many tasks (like optimization) are interested in the location of a min/max not the value."
   ]
  },
  {
   "cell_type": "code",
   "execution_count": null,
   "metadata": {},
   "outputs": [],
   "source": [
    "a = np.array([ -1, -13,   5, -45,  28,  35,  42, -22,   8, -33,  25,  14,  29,\n",
    "        44,  39, -47,  39, -14,   4,  47,  34,  16,  28, -27,   8, -46,\n",
    "        -5,  32, -46, -15,  10,   3,  -9,  38,  39, -20, -37, -14, -12,\n",
    "        32,  41, -42,  40, -47,   3,  30,  43,  31,   7,  46,   8,  -9,\n",
    "        11, -26, -17,  48, -50, -49,  25,  39,  -1,   6,  22,  13,  31,\n",
    "        24, -16, -26,  36, -17,  17,  -2, -47,  24, -27,  -2, -20, -22,\n",
    "       -21, -25, -12, -36,  48, -44,  39,  32,   5,  17,  38, -32, -49,\n",
    "       -21, -29, -25,  25, -35,  29,  35,  -8,  -6])\n",
    "a.reshape(10, 10)"
   ]
  },
  {
   "cell_type": "markdown",
   "metadata": {},
   "source": [
    "Arg methods return the location in 1D, on a raveled index of the original array\n",
    "This only gives us the location of the first maximum value"
   ]
  },
  {
   "cell_type": "code",
   "execution_count": null,
   "metadata": {},
   "outputs": [],
   "source": [
    "a.argmax()"
   ]
  },
  {
   "cell_type": "markdown",
   "metadata": {},
   "source": [
    "We can unravel the index using the shape of the array that we want to resolve that index to"
   ]
  },
  {
   "cell_type": "code",
   "execution_count": null,
   "metadata": {},
   "outputs": [],
   "source": [
    "np.unravel_index(a.argmax(), a.shape)"
   ]
  },
  {
   "cell_type": "code",
   "execution_count": null,
   "metadata": {},
   "outputs": [],
   "source": [
    "a[np.unravel_index(a.argmax(), a.shape)]"
   ]
  },
  {
   "cell_type": "markdown",
   "metadata": {},
   "source": [
    "We can use where "
   ]
  },
  {
   "cell_type": "code",
   "execution_count": null,
   "metadata": {},
   "outputs": [],
   "source": [
    "np.where(a == a.max())"
   ]
  },
  {
   "cell_type": "markdown",
   "metadata": {},
   "source": [
    "### Wind Statistics\n",
    "\n",
    "The data in 'wind.data' has the following format::\n",
    "\n",
    "```\n",
    "61  1  1 15.04 14.96 13.17  9.29 13.96  9.87 13.67 10.25 10.83 12.58 18.50 15.04\n",
    "61  1  2 14.71 16.88 10.83  6.50 12.62  7.67 11.50 10.04  9.79  9.67 17.54 13.83\n",
    "61  1  3 18.50 16.88 12.33 10.13 11.17  6.17 11.25  8.04  8.50  7.67 12.75 12.71\n",
    "```\n",
    "\n",
    "The first three columns are year, month and day. The remaining 12 columns are average windspeeds in knots at 12 locations in Ireland on that day."
   ]
  },
  {
   "cell_type": "code",
   "execution_count": null,
   "metadata": {},
   "outputs": [],
   "source": [
    "from numpy import loadtxt\n",
    "\n",
    "data = loadtxt('../data/tools/numpy/wind_data')\n",
    "\n",
    "dates = data[:, :3]\n",
    "wind_speeds = data[:, 3:]"
   ]
  },
  {
   "cell_type": "markdown",
   "metadata": {},
   "source": [
    "Calculate the min, max and mean windspeeds and standard deviation of the windspeeds over all the locations and all the times (a single set of numbers for the entire dataset).v"
   ]
  },
  {
   "cell_type": "code",
   "execution_count": null,
   "metadata": {},
   "outputs": [],
   "source": [
    "print(f'Min:  {wind_speeds.min()}')\n",
    "print(f'Max:  {wind_speeds.max()}')\n",
    "print(f'Mean: {wind_speeds.mean()}')\n",
    "print(f'Std: {wind_speeds.std()}')"
   ]
  },
  {
   "cell_type": "markdown",
   "metadata": {},
   "source": [
    "Calculate the min, max and mean windspeeds and standard deviations of the windspeeds at each location over all the days (a different set of numbers for each location)"
   ]
  },
  {
   "cell_type": "code",
   "execution_count": null,
   "metadata": {},
   "outputs": [],
   "source": [
    "print(f'Min:  {wind_speeds.min(axis=0)}')\n",
    "print(f'Max:  {wind_speeds.max(axis=0)}')\n",
    "print(f'Mean: {wind_speeds.mean(axis=0)}')\n",
    "print(f'Std: {wind_speeds.std(axis=0)}')"
   ]
  },
  {
   "cell_type": "markdown",
   "metadata": {},
   "source": [
    "Calculate the min, max and mean windspeed and standard deviations of the windspeeds across all the locations at each day (a different set of numbers for each day)"
   ]
  },
  {
   "cell_type": "code",
   "execution_count": null,
   "metadata": {},
   "outputs": [],
   "source": [
    "print(f'Min:  {wind_speeds.min(axis=1)}')\n",
    "print(f'Max:  {wind_speeds.max(axis=1)}')\n",
    "print(f'Mean: {wind_speeds.mean(axis=1)}')\n",
    "print(f'Std: {wind_speeds.std(axis=1)}')"
   ]
  },
  {
   "cell_type": "markdown",
   "metadata": {},
   "source": [
    "Find the location which has the greatest windspeed on each day (an integer column number for each day)"
   ]
  },
  {
   "cell_type": "code",
   "execution_count": null,
   "metadata": {},
   "outputs": [],
   "source": [
    "wind_speeds.argmax(axis=1)"
   ]
  },
  {
   "cell_type": "markdown",
   "metadata": {},
   "source": [
    "Find the year, month and day on which the greatest windspeed was recorded."
   ]
  },
  {
   "cell_type": "code",
   "execution_count": null,
   "metadata": {},
   "outputs": [],
   "source": [
    "row, column = np.where(wind_speeds == wind_speeds.max())\n",
    "dates[row]"
   ]
  },
  {
   "cell_type": "markdown",
   "metadata": {},
   "source": [
    "Find the average windspeed in January for each location."
   ]
  },
  {
   "cell_type": "code",
   "execution_count": null,
   "metadata": {},
   "outputs": [],
   "source": [
    "januaries = dates[:, 1] == 1\n",
    "wind_speeds[januaries].mean(axis=0)"
   ]
  }
 ],
 "metadata": {
  "kernelspec": {
   "display_name": "Python 3",
   "language": "python",
   "name": "python3"
  },
  "language_info": {
   "codemirror_mode": {
    "name": "ipython",
    "version": 3
   },
   "file_extension": ".py",
   "mimetype": "text/x-python",
   "name": "python",
   "nbconvert_exporter": "python",
   "pygments_lexer": "ipython3",
   "version": "3.8.2"
  },
  "toc-autonumbering": true,
  "toc-showcode": true,
  "toc-showmarkdowntxt": false
 },
 "nbformat": 4,
 "nbformat_minor": 4
}
